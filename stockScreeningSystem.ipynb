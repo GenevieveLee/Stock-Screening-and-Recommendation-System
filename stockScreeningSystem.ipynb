{
 "cells": [
  {
   "cell_type": "markdown",
   "metadata": {},
   "source": [
    "Reference link:\n",
    "https://sginvestors.io/sgx/reit-listing/alpha (All REITs listed in SGX)\n",
    "\n",
    "Alpha Vantage API key: A0D7GYFRH2XWP8E3"
   ]
  },
  {
   "cell_type": "code",
   "execution_count": 53,
   "metadata": {},
   "outputs": [],
   "source": [
    "import yfinance as yf\n",
    "import pandas as pd\n",
    "import datetime as dt\n",
    "from pandas.tseries.offsets import BDay\n"
   ]
  },
  {
   "cell_type": "code",
   "execution_count": 52,
   "metadata": {},
   "outputs": [],
   "source": [
    "tickers = [\"O5RU.SI\", \"XZL.SI\"]\n",
    "start_date_str = '2019-01-01'\n",
    "end_date_str = '2019-01-01'"
   ]
  },
  {
   "cell_type": "code",
   "execution_count": 4,
   "metadata": {},
   "outputs": [
    {
     "name": "stdout",
     "output_type": "stream",
     "text": [
      "Ticker: O5RU.SI\n",
      "Date\n",
      "2019-02-13 00:00:00+08:00    0.024959\n",
      "2019-05-03 00:00:00+08:00    0.027455\n",
      "2019-08-02 00:00:00+08:00    0.024959\n",
      "2019-11-12 00:00:00+08:00    0.024959\n",
      "2020-02-07 00:00:00+08:00    0.024959\n",
      "2020-05-19 00:00:00+08:00    0.019967\n",
      "2020-08-03 00:00:00+08:00    0.019967\n",
      "2020-11-03 00:00:00+08:00    0.019967\n",
      "2021-02-04 00:00:00+08:00    0.020466\n",
      "2021-05-12 00:00:00+08:00    0.028952\n",
      "2021-08-05 00:00:00+08:00    0.022463\n",
      "2021-10-26 00:00:00+08:00    0.024959\n",
      "2022-02-09 00:00:00+08:00    0.023461\n",
      "2022-05-09 00:00:00+08:00    0.023561\n",
      "2022-08-03 00:00:00+08:00    0.022762\n",
      "2022-11-03 00:00:00+08:00    0.024160\n",
      "2023-02-02 00:00:00+08:00    0.025857\n",
      "2023-05-12 00:00:00+08:00    0.026496\n",
      "2023-06-08 00:00:00+08:00    0.018000\n",
      "2023-08-04 00:00:00+08:00    0.005100\n",
      "2023-11-14 00:00:00+08:00    0.023400\n",
      "2024-02-08 00:00:00+08:00    0.023400\n",
      "2024-05-15 00:00:00+08:00    0.023700\n",
      "Name: Dividends, dtype: float64\n",
      "\n",
      "Ticker: XZL.SI\n",
      "Date\n",
      "2020-02-27 00:00:00+08:00    0.060777\n",
      "2022-03-02 00:00:00+08:00    0.004821\n",
      "2023-03-02 00:00:00+08:00    0.021551\n",
      "2023-08-17 00:00:00+08:00    0.020457\n",
      "2024-02-29 00:00:00+08:00    0.025868\n",
      "Name: Dividends, dtype: float64\n",
      "\n"
     ]
    }
   ],
   "source": [
    "# Dividend yield\n",
    "for ticker in tickers:\n",
    "    ticker = yf.Ticker(ticker) #Creating an instance of the Ticker class for the specified stock ticker symbol\n",
    "    dividend = ticker.dividends\n",
    "    dividend_filtered = dividend.loc['2019-1-1':]\n",
    "    print(f\"Ticker: {ticker.ticker}\")\n",
    "    print(dividend_filtered)\n",
    "    print()"
   ]
  },
  {
   "cell_type": "code",
   "execution_count": null,
   "metadata": {},
   "outputs": [],
   "source": [
    "# PB Ratio\n",
    "# PB Ratio = Price per Share / Book Value per Share\n",
    "# Book Value per share = Stockholders' Equity(Total Assets - Total Liabilities) / Number of Outstanding Shares(Ordinary Shares Number)\n",
    "for ticker in tickers:\n",
    "    ticker = yf.Ticker(ticker)\n",
    "    print(f\"Ticker: {ticker.ticker}\")\n",
    "    book_value = (ticker.quarterly_balance_sheet.loc['Stockholders Equity',:] / ticker.quarterly_balance_sheet.loc['Ordinary Shares Number',:])\n",
    "\n",
    "print \n",
    "for date in book_value.index:\n",
    "    while True:\n",
    "        if not (ticker.history(start=date, end=date+dt.timedelta(days=1)).empty):\n",
    "            print(ticker.history(start=date, end=date+dt.timedelta(days=1)))\n",
    "            break\n",
    "        else:\n",
    "            date = date - pd.DateOffset(days=1)\n",
    "            \n",
    "            \n",
    "\n"
   ]
  },
  {
   "cell_type": "code",
   "execution_count": 56,
   "metadata": {},
   "outputs": [
    {
     "name": "stderr",
     "output_type": "stream",
     "text": [
      "$XZL.SI: possibly delisted; No price data found  (1d 2023-12-31 00:00:00 -> 2024-01-01 00:00:00)\n",
      "$XZL.SI: possibly delisted; No price data found  (1d 2023-12-30 00:00:00 -> 2023-12-31 00:00:00)\n",
      "$XZL.SI: possibly delisted; No price data found  (1d 2023-12-29 00:00:00 -> 2023-12-29 00:00:00)\n",
      "$XZL.SI: possibly delisted; No price data found  (1d 2023-06-30 00:00:00 -> 2023-06-30 00:00:00)\n",
      "$XZL.SI: possibly delisted; No price data found  (1d 2022-12-31 00:00:00 -> 2023-01-01 00:00:00)\n",
      "$XZL.SI: possibly delisted; No price data found  (1d 2022-12-30 00:00:00 -> 2022-12-30 00:00:00)\n"
     ]
    },
    {
     "name": "stdout",
     "output_type": "stream",
     "text": [
      "$XZL.SI: possibly delisted; No price data found  (1d 2023-12-31 00:00:00 -> 2024-01-01 00:00:00)\n",
      "$XZL.SI: possibly delisted; No price data found  (1d 2023-12-30 00:00:00 -> 2023-12-31 00:00:00)\n",
      "$XZL.SI: possibly delisted; No price data found  (1d 2023-12-29 00:00:00 -> 2023-12-29 00:00:00)\n",
      "Empty DataFrame\n",
      "Columns: [Open, High, Low, Close, Adj Close, Volume]\n",
      "Index: []\n",
      "$XZL.SI: possibly delisted; No price data found  (1d 2023-06-30 00:00:00 -> 2023-06-30 00:00:00)\n",
      "Empty DataFrame\n",
      "Columns: [Open, High, Low, Close, Adj Close, Volume]\n",
      "Index: []\n",
      "$XZL.SI: possibly delisted; No price data found  (1d 2022-12-31 00:00:00 -> 2023-01-01 00:00:00)\n",
      "$XZL.SI: possibly delisted; No price data found  (1d 2022-12-30 00:00:00 -> 2022-12-30 00:00:00)\n",
      "Empty DataFrame\n",
      "Columns: [Open, High, Low, Close, Adj Close, Volume]\n",
      "Index: []\n"
     ]
    }
   ],
   "source": [
    "for date in book_value.index:\n",
    "        current_date = date\n",
    "        \n",
    "        while True:\n",
    "            try:\n",
    "                # Check if historical data is available for the current date\n",
    "                if not (ticker.history(start=current_date, end=current_date + dt.timedelta(days=1)).empty):\n",
    "                    print(ticker.history(start=current_date, end=current_date))\n",
    "                    break\n",
    "                else:\n",
    "                    # If no data found for current_date, move to the previous day\n",
    "                    current_date = current_date - pd.DateOffset(days=1)\n",
    "            except Exception as e:\n",
    "                print(f\"Error fetching data for on\")\n",
    "                break  # Exit loop on error"
   ]
  },
  {
   "cell_type": "code",
   "execution_count": 47,
   "metadata": {},
   "outputs": [
    {
     "name": "stdout",
     "output_type": "stream",
     "text": [
      "                               Open      High       Low     Close  Volume  \\\n",
      "Date                                                                        \n",
      "2020-06-01 00:00:00+08:00  0.310093  0.322175  0.310093  0.318147  697700   \n",
      "\n",
      "                           Dividends  Stock Splits  \n",
      "Date                                                \n",
      "2020-06-01 00:00:00+08:00        0.0           0.0  \n"
     ]
    }
   ],
   "source": [
    "print(ticker.history(start=\"2020-06-01\", end=\"2020-06-02\"))"
   ]
  }
 ],
 "metadata": {
  "kernelspec": {
   "display_name": "Python 3",
   "language": "python",
   "name": "python3"
  },
  "language_info": {
   "codemirror_mode": {
    "name": "ipython",
    "version": 3
   },
   "file_extension": ".py",
   "mimetype": "text/x-python",
   "name": "python",
   "nbconvert_exporter": "python",
   "pygments_lexer": "ipython3",
   "version": "3.11.9"
  }
 },
 "nbformat": 4,
 "nbformat_minor": 2
}
