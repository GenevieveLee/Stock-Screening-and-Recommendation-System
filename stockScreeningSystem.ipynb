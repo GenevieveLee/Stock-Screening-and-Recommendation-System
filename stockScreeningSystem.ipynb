{
 "cells": [
  {
   "cell_type": "markdown",
   "metadata": {},
   "source": [
    "Reference link:\n",
    "https://sginvestors.io/sgx/reit-listing/alpha (All REITs listed in SGX)\n",
    "\n",
    "Alpha Vantage API key: A0D7GYFRH2XWP8E3"
   ]
  },
  {
   "cell_type": "code",
   "execution_count": 106,
   "metadata": {},
   "outputs": [],
   "source": [
    "import yfinance as yf\n",
    "import pandas as pd\n",
    "import datetime as dt\n",
    "import warnings"
   ]
  },
  {
   "cell_type": "code",
   "execution_count": 119,
   "metadata": {},
   "outputs": [],
   "source": [
    "tickers = [\"O5RU.SI\", \"XZL.SI\"]"
   ]
  },
  {
   "cell_type": "code",
   "execution_count": 122,
   "metadata": {},
   "outputs": [
    {
     "name": "stdout",
     "output_type": "stream",
     "text": [
      "Ticker: O5RU.SI\n",
      "Date\n",
      "2019-02-13 00:00:00+08:00    0.024959\n",
      "2019-05-03 00:00:00+08:00    0.027455\n",
      "2019-08-02 00:00:00+08:00    0.024959\n",
      "2019-11-12 00:00:00+08:00    0.024959\n",
      "2020-02-07 00:00:00+08:00    0.024959\n",
      "2020-05-19 00:00:00+08:00    0.019967\n",
      "2020-08-03 00:00:00+08:00    0.019967\n",
      "2020-11-03 00:00:00+08:00    0.019967\n",
      "2021-02-04 00:00:00+08:00    0.020466\n",
      "2021-05-12 00:00:00+08:00    0.028952\n",
      "2021-08-05 00:00:00+08:00    0.022463\n",
      "2021-10-26 00:00:00+08:00    0.024959\n",
      "2022-02-09 00:00:00+08:00    0.023461\n",
      "2022-05-09 00:00:00+08:00    0.023561\n",
      "2022-08-03 00:00:00+08:00    0.022762\n",
      "2022-11-03 00:00:00+08:00    0.024160\n",
      "2023-02-02 00:00:00+08:00    0.025857\n",
      "2023-05-12 00:00:00+08:00    0.026496\n",
      "2023-06-08 00:00:00+08:00    0.018000\n",
      "2023-08-04 00:00:00+08:00    0.005100\n",
      "2023-11-14 00:00:00+08:00    0.023400\n",
      "2024-02-08 00:00:00+08:00    0.023400\n",
      "2024-05-15 00:00:00+08:00    0.023700\n",
      "Name: Dividends, dtype: float64\n",
      "\n",
      "Ticker: XZL.SI\n",
      "Date\n",
      "2020-02-27 00:00:00+08:00    0.060777\n",
      "2022-03-02 00:00:00+08:00    0.004821\n",
      "2023-03-02 00:00:00+08:00    0.021551\n",
      "2023-08-17 00:00:00+08:00    0.020457\n",
      "2024-02-29 00:00:00+08:00    0.025868\n",
      "Name: Dividends, dtype: float64\n",
      "\n"
     ]
    }
   ],
   "source": [
    "# Dividend yield\n",
    "for ticker in tickers:\n",
    "    ticker = yf.Ticker(ticker) #Creating an instance of the Ticker class for the specified stock ticker symbol\n",
    "    dividend = ticker.dividends\n",
    "    dividend_filtered = dividend.loc['2019-1-1':]\n",
    "    print(f\"Ticker: {ticker.ticker}\")\n",
    "    print(dividend_filtered)\n",
    "    print()"
   ]
  },
  {
   "cell_type": "code",
   "execution_count": 142,
   "metadata": {},
   "outputs": [
    {
     "name": "stdout",
     "output_type": "stream",
     "text": [
      "$O5RU.SI: possibly delisted; No price data found  (1d 2024-03-31 00:00:00 -> 2024-04-01 00:00:00)\n",
      "$O5RU.SI: possibly delisted; No price data found  (1d 2024-03-30 00:00:00 -> 2024-03-31 00:00:00)\n",
      "$O5RU.SI: possibly delisted; No price data found  (1d 2024-03-29 00:00:00 -> 2024-03-30 00:00:00)\n",
      "$O5RU.SI: possibly delisted; No price data found  (1d 2023-09-30 00:00:00 -> 2023-10-01 00:00:00)\n",
      "$XZL.SI: possibly delisted; No price data found  (1d 2023-12-31 00:00:00 -> 2024-01-01 00:00:00)\n",
      "$XZL.SI: possibly delisted; No price data found  (1d 2023-12-30 00:00:00 -> 2023-12-31 00:00:00)\n",
      "$XZL.SI: possibly delisted; No price data found  (1d 2022-12-31 00:00:00 -> 2023-01-01 00:00:00)\n",
      "\n",
      "The quaterly price-to-book (PB) ratio for O5RU.SI\n",
      "\n",
      "        Date  Book Value     Price  PB Ratio\n",
      "0 2024-03-31    1.769477  1.256300  0.709984\n",
      "1 2023-09-30    1.810517  1.229144  0.678891\n",
      "2 2023-03-31    1.895120  1.199580  0.632983\n",
      "\n",
      "The quaterly price-to-book (PB) ratio for XZL.SI\n",
      "\n",
      "        Date  Book Value     Price  PB Ratio\n",
      "0 2023-12-31    0.741174  0.278701  0.376026\n",
      "1 2023-06-30    0.785692  0.292261  0.371979\n",
      "2 2022-12-31    0.807549  0.284647  0.352483\n"
     ]
    }
   ],
   "source": [
    "# PB Ratio\n",
    "# PB Ratio = Price per Share / Book Value per Share\n",
    "# Book Value per share = Stockholders' Equity(Total Assets - Total Liabilities) / Number of Outstanding Shares(Ordinary Shares Number)\n",
    "pb_ratio_table_all = []\n",
    "for ticker in tickers:\n",
    "    ticker = yf.Ticker(ticker)\n",
    "    book_value = ((ticker.quarterly_balance_sheet.loc['Stockholders Equity',:] / ticker.quarterly_balance_sheet.loc['Ordinary Shares Number',:]).astype(float))\n",
    "    price_history = []\n",
    "    for date in book_value.index:\n",
    "        while True:\n",
    "            if not (ticker.history(start=date, end=date+dt.timedelta(days=1)).empty):\n",
    "                price = (ticker.history(start=date, end=date+dt.timedelta(days=1)).loc[:, 'Close'].iloc[0])\n",
    "                price_history.append(price)\n",
    "                break\n",
    "            else:\n",
    "                date = date - pd.DateOffset(days=1)   \n",
    "\n",
    "    pb_ratio_table = pd.DataFrame({'Date': book_value.index, 'Book Value': book_value, 'Price': price_history})\n",
    "    pb_ratio = pb_ratio_table['Price'] / pb_ratio_table['Book Value']\n",
    "    pb_ratio_table = pd.DataFrame({'Date': book_value.index, 'Book Value': book_value.values, 'Price': price_history, 'PB Ratio':pb_ratio.values})\n",
    "    pb_ratio_table_all.append(pb_ratio_table)\n",
    "\n",
    "for i, pb_ratio_table in enumerate(pb_ratio_table_all):\n",
    "    print(f\"\\n{'The quaterly price-to-book (PB) ratio for'} {tickers[i]}\\n\")\n",
    "    print(pb_ratio_table)                \n",
    "\n",
    "\n"
   ]
  },
  {
   "cell_type": "code",
   "execution_count": 143,
   "metadata": {},
   "outputs": [
    {
     "name": "stdout",
     "output_type": "stream",
     "text": [
      "$O5RU.SI: possibly delisted; No price data found  (1d 2024-03-31 00:00:00 -> 2024-04-01 00:00:00)\n",
      "$O5RU.SI: possibly delisted; No price data found  (1d 2024-03-30 00:00:00 -> 2024-03-31 00:00:00)\n",
      "$O5RU.SI: possibly delisted; No price data found  (1d 2024-03-29 00:00:00 -> 2024-03-30 00:00:00)\n",
      "$XZL.SI: possibly delisted; No price data found  (1d 2023-12-31 00:00:00 -> 2024-01-01 00:00:00)\n",
      "$XZL.SI: possibly delisted; No price data found  (1d 2023-12-30 00:00:00 -> 2023-12-31 00:00:00)\n",
      "$XZL.SI: possibly delisted; No price data found  (1d 2022-12-31 00:00:00 -> 2023-01-01 00:00:00)\n",
      "\n",
      "The annual price-to-book (PB) ratio for O5RU.SI\n",
      "\n",
      "        Date  Book Value     Price  PB Ratio\n",
      "0 2024-03-31    1.769477  1.256300  0.709984\n",
      "1 2023-03-31    1.895120  1.199580  0.632983\n",
      "2 2022-03-31    1.913909  1.176086  0.614494\n",
      "3 2021-03-31    1.536201  1.019211  0.663462\n",
      "4 2020-03-31         NaN  0.769249       NaN\n",
      "\n",
      "The annual price-to-book (PB) ratio for XZL.SI\n",
      "\n",
      "        Date  Book Value     Price  PB Ratio\n",
      "0 2023-12-31    0.741174  0.278701  0.376026\n",
      "1 2022-12-31    0.807549  0.284647  0.352483\n",
      "2 2021-12-31    0.704593  0.402718  0.571562\n",
      "3 2020-12-31    0.615459  0.354392  0.575817\n",
      "4 2019-12-31         NaN  0.650029       NaN\n"
     ]
    }
   ],
   "source": [
    "pb_ratio_table_all = []\n",
    "for ticker in tickers:\n",
    "    ticker = yf.Ticker(ticker)\n",
    "    book_value = ((ticker.balance_sheet.loc['Stockholders Equity',:] / ticker.balance_sheet.loc['Ordinary Shares Number',:]).astype(float))\n",
    "    price_history = []\n",
    "    for date in book_value.index:\n",
    "        while True:\n",
    "            if not (ticker.history(start=date, end=date+dt.timedelta(days=1)).empty):\n",
    "                price = (ticker.history(start=date, end=date+dt.timedelta(days=1)).loc[:, 'Close'].iloc[0])\n",
    "                price_history.append(price)\n",
    "                break\n",
    "            else:\n",
    "                date = date - pd.DateOffset(days=1)   \n",
    "\n",
    "    pb_ratio_table = pd.DataFrame({'Date': book_value.index, 'Book Value': book_value, 'Price': price_history})\n",
    "    pb_ratio = pb_ratio_table['Price'] / pb_ratio_table['Book Value']\n",
    "    pb_ratio_table = pd.DataFrame({'Date': book_value.index, 'Book Value': book_value.values, 'Price': price_history, 'PB Ratio':pb_ratio.values})\n",
    "    pb_ratio_table_all.append(pb_ratio_table)\n",
    "\n",
    "for i, pb_ratio_table in enumerate(pb_ratio_table_all):\n",
    "    print(f\"\\n{'The annual price-to-book (PB) ratio for'} {tickers[i]}\\n\")\n",
    "    print(pb_ratio_table)                \n",
    "\n",
    "\n"
   ]
  }
 ],
 "metadata": {
  "kernelspec": {
   "display_name": "Python 3",
   "language": "python",
   "name": "python3"
  },
  "language_info": {
   "codemirror_mode": {
    "name": "ipython",
    "version": 3
   },
   "file_extension": ".py",
   "mimetype": "text/x-python",
   "name": "python",
   "nbconvert_exporter": "python",
   "pygments_lexer": "ipython3",
   "version": "3.11.9"
  }
 },
 "nbformat": 4,
 "nbformat_minor": 2
}
