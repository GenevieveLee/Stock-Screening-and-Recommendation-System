{
 "cells": [
  {
   "cell_type": "markdown",
   "metadata": {},
   "source": [
    "Reference link:\n",
    "https://sginvestors.io/sgx/reit-listing/alpha (All REITs listed in SGX)\n",
    "\n",
    "Alpha Vantage API key: A0D7GYFRH2XWP8E3"
   ]
  },
  {
   "cell_type": "code",
   "execution_count": 2,
   "metadata": {},
   "outputs": [],
   "source": [
    "import yfinance as yf\n",
    "import pandas as pd\n",
    "import datetime"
   ]
  },
  {
   "cell_type": "code",
   "execution_count": 3,
   "metadata": {},
   "outputs": [],
   "source": [
    "tickers = [\"O5RU.SI\", \"XZL.SI\"]\n",
    "#start_date = 1/1/2019\n",
    "#end_date = datetime.today()"
   ]
  },
  {
   "cell_type": "code",
   "execution_count": 4,
   "metadata": {},
   "outputs": [
    {
     "name": "stdout",
     "output_type": "stream",
     "text": [
      "Ticker: O5RU.SI\n",
      "Date\n",
      "2019-02-13 00:00:00+08:00    0.024959\n",
      "2019-05-03 00:00:00+08:00    0.027455\n",
      "2019-08-02 00:00:00+08:00    0.024959\n",
      "2019-11-12 00:00:00+08:00    0.024959\n",
      "2020-02-07 00:00:00+08:00    0.024959\n",
      "2020-05-19 00:00:00+08:00    0.019967\n",
      "2020-08-03 00:00:00+08:00    0.019967\n",
      "2020-11-03 00:00:00+08:00    0.019967\n",
      "2021-02-04 00:00:00+08:00    0.020466\n",
      "2021-05-12 00:00:00+08:00    0.028952\n",
      "2021-08-05 00:00:00+08:00    0.022463\n",
      "2021-10-26 00:00:00+08:00    0.024959\n",
      "2022-02-09 00:00:00+08:00    0.023461\n",
      "2022-05-09 00:00:00+08:00    0.023561\n",
      "2022-08-03 00:00:00+08:00    0.022762\n",
      "2022-11-03 00:00:00+08:00    0.024160\n",
      "2023-02-02 00:00:00+08:00    0.025857\n",
      "2023-05-12 00:00:00+08:00    0.026496\n",
      "2023-06-08 00:00:00+08:00    0.018000\n",
      "2023-08-04 00:00:00+08:00    0.005100\n",
      "2023-11-14 00:00:00+08:00    0.023400\n",
      "2024-02-08 00:00:00+08:00    0.023400\n",
      "2024-05-15 00:00:00+08:00    0.023700\n",
      "Name: Dividends, dtype: float64\n",
      "\n",
      "Ticker: XZL.SI\n",
      "Date\n",
      "2020-02-27 00:00:00+08:00    0.060777\n",
      "2022-03-02 00:00:00+08:00    0.004821\n",
      "2023-03-02 00:00:00+08:00    0.021551\n",
      "2023-08-17 00:00:00+08:00    0.020457\n",
      "2024-02-29 00:00:00+08:00    0.025868\n",
      "Name: Dividends, dtype: float64\n",
      "\n"
     ]
    }
   ],
   "source": [
    "# Dividend yield\n",
    "for ticker in tickers:\n",
    "    ticker = yf.Ticker(ticker) #Creating an instance of the Ticker class for the specified stock ticker symbol\n",
    "    dividend = ticker.dividends\n",
    "    dividend_filtered = dividend.loc['2019-1-1':]\n",
    "    print(f\"Ticker: {ticker.ticker}\")\n",
    "    print(dividend_filtered)\n",
    "    print()"
   ]
  },
  {
   "cell_type": "code",
   "execution_count": 20,
   "metadata": {},
   "outputs": [
    {
     "name": "stdout",
     "output_type": "stream",
     "text": [
      "Ticker: O5RU.SI\n",
      "2024-03-31    1.769477\n",
      "2023-03-31     1.89512\n",
      "2022-03-31    1.913909\n",
      "2021-03-31    1.536201\n",
      "2020-03-31         NaN\n",
      "dtype: object\n",
      "1.25\n",
      "2024-03-31    0.706423\n",
      "2023-03-31    0.659589\n",
      "2022-03-31    0.653113\n",
      "2021-03-31    0.813695\n",
      "2020-03-31         NaN\n",
      "dtype: object\n",
      "Ticker: XZL.SI\n",
      "2023-12-31    0.741174\n",
      "2022-12-31    0.807549\n",
      "2021-12-31    0.704593\n",
      "2020-12-31    0.615459\n",
      "2019-12-31         NaN\n",
      "dtype: object\n",
      "0.275\n",
      "2023-12-31    0.371033\n",
      "2022-12-31    0.340537\n",
      "2021-12-31    0.390296\n",
      "2020-12-31    0.446821\n",
      "2019-12-31         NaN\n",
      "dtype: object\n"
     ]
    }
   ],
   "source": [
    "# PB Ratio\n",
    "# PB Ratio = Price per Share / Book Value per Share\n",
    "# Book Value per share = Stockholders' Equity (Total Assets - Total Liabilities) / Number of Outstanding Shares(Ordinary Shares Number)\n",
    "for ticker in tickers:\n",
    "    ticker = yf.Ticker(ticker)\n",
    "    print(f\"Ticker: {ticker.ticker}\")\n",
    "    book_value = (ticker.balance_sheet.loc['Stockholders Equity',:] / ticker.balance_sheet.loc['Ordinary Shares Number',:])\n",
    "    pb_ratio = (ticker.info.get('currentPrice')) / book_value\n",
    "    print(pb_ratio)\n",
    "\n"
   ]
  },
  {
   "cell_type": "code",
   "execution_count": 23,
   "metadata": {},
   "outputs": [
    {
     "name": "stdout",
     "output_type": "stream",
     "text": [
      "Ticker: O5RU.SI\n",
      "Total Stockholder Equity not available for O5RU.SI\n",
      "\n",
      "Ticker: XZL.SI\n",
      "Total Stockholder Equity not available for XZL.SI\n",
      "\n"
     ]
    }
   ],
   "source": [
    "import yfinance as yf\n",
    "import pandas as pd\n",
    "\n",
    "# Example list of tickers\n",
    "tickers = [\"O5RU.SI\", \"XZL.SI\"]\n",
    "\n",
    "for ticker_symbol in tickers:\n",
    "    ticker = yf.Ticker(ticker_symbol)\n",
    "    print(f\"Ticker: {ticker_symbol}\")\n",
    "    \n",
    "    # Fetch balance sheet data\n",
    "    balance_sheet = ticker.balance_sheet\n",
    "    \n",
    "    # Ensure 'Total Stockholder Equity' is present\n",
    "    if 'Stockholder Equity' in balance_sheet.index:\n",
    "        stockholder_equity = balance_sheet.loc['Stockholder Equity', :]\n",
    "        \n",
    "        # Fetch shares outstanding\n",
    "        shares_outstanding = ticker.info.get('sharesOutstanding')\n",
    "        \n",
    "        if shares_outstanding:\n",
    "            # Calculate book value per share\n",
    "            book_value_per_share = stockholder_equity / shares_outstanding\n",
    "            \n",
    "            # Fetch historical stock prices\n",
    "            hist = ticker.history(period=\"5y\")  # Fetching 5 years of historical data\n",
    "            \n",
    "            # Calculate historical P/B ratio\n",
    "            pb_ratios = pd.DataFrame()\n",
    "            pb_ratios['Stock Price'] = hist['Close']\n",
    "            pb_ratios['Book Value per Share'] = book_value_per_share[0]  # Using the latest book value per share for simplicity\n",
    "            pb_ratios['P/B Ratio'] = pb_ratios['Stock Price'] / pb_ratios['Book Value per Share']\n",
    "            \n",
    "            # Print historical P/B ratios\n",
    "            print(pb_ratios[['Stock Price', 'P/B Ratio']])\n",
    "        else:\n",
    "            print(f\"Shares outstanding not available for {ticker_symbol}\")\n",
    "    else:\n",
    "        print(f\"Total Stockholder Equity not available for {ticker_symbol}\")\n",
    "\n",
    "    print()  # Separate each ticker's data with a blank line\n"
   ]
  }
 ],
 "metadata": {
  "kernelspec": {
   "display_name": "Python 3",
   "language": "python",
   "name": "python3"
  },
  "language_info": {
   "codemirror_mode": {
    "name": "ipython",
    "version": 3
   },
   "file_extension": ".py",
   "mimetype": "text/x-python",
   "name": "python",
   "nbconvert_exporter": "python",
   "pygments_lexer": "ipython3",
   "version": "3.11.9"
  }
 },
 "nbformat": 4,
 "nbformat_minor": 2
}
