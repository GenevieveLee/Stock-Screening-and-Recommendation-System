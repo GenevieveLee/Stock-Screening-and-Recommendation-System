{
 "cells": [
  {
   "cell_type": "markdown",
   "metadata": {},
   "source": [
    "Reference link:\n",
    "https://sginvestors.io/sgx/reit-listing/alpha (All REITs listed in SGX)\n",
    "\n",
    "Alpha Vantage API key: A0D7GYFRH2XWP8E3"
   ]
  },
  {
   "cell_type": "code",
   "execution_count": 1,
   "metadata": {},
   "outputs": [],
   "source": [
    "import yfinance as yf\n",
    "import pandas as pd\n",
    "import datetime"
   ]
  },
  {
   "cell_type": "code",
   "execution_count": 9,
   "metadata": {},
   "outputs": [],
   "source": [
    "tickers = [\"O5RU.SI\", \"XZL.SI\"]\n",
    "#start_date = 1/1/2019\n",
    "#end_date = datetime.today()"
   ]
  },
  {
   "cell_type": "code",
   "execution_count": 17,
   "metadata": {},
   "outputs": [
    {
     "name": "stdout",
     "output_type": "stream",
     "text": [
      "Ticker: O5RU.SI\n",
      "Date\n",
      "2019-02-13 00:00:00+08:00    0.024959\n",
      "2019-05-03 00:00:00+08:00    0.027455\n",
      "2019-08-02 00:00:00+08:00    0.024959\n",
      "2019-11-12 00:00:00+08:00    0.024959\n",
      "2020-02-07 00:00:00+08:00    0.024959\n",
      "2020-05-19 00:00:00+08:00    0.019967\n",
      "2020-08-03 00:00:00+08:00    0.019967\n",
      "2020-11-03 00:00:00+08:00    0.019967\n",
      "2021-02-04 00:00:00+08:00    0.020466\n",
      "2021-05-12 00:00:00+08:00    0.028952\n",
      "2021-08-05 00:00:00+08:00    0.022463\n",
      "2021-10-26 00:00:00+08:00    0.024959\n",
      "2022-02-09 00:00:00+08:00    0.023461\n",
      "2022-05-09 00:00:00+08:00    0.023561\n",
      "2022-08-03 00:00:00+08:00    0.022762\n",
      "2022-11-03 00:00:00+08:00    0.024160\n",
      "2023-02-02 00:00:00+08:00    0.025857\n",
      "2023-05-12 00:00:00+08:00    0.026496\n",
      "2023-06-08 00:00:00+08:00    0.018000\n",
      "2023-08-04 00:00:00+08:00    0.005100\n",
      "2023-11-14 00:00:00+08:00    0.023400\n",
      "2024-02-08 00:00:00+08:00    0.023400\n",
      "2024-05-15 00:00:00+08:00    0.023700\n",
      "Name: Dividends, dtype: float64\n",
      "\n",
      "Ticker: XZL.SI\n",
      "Date\n",
      "2020-02-27 00:00:00+08:00    0.060777\n",
      "2022-03-02 00:00:00+08:00    0.004821\n",
      "2023-03-02 00:00:00+08:00    0.021551\n",
      "2023-08-17 00:00:00+08:00    0.020457\n",
      "2024-02-29 00:00:00+08:00    0.025868\n",
      "Name: Dividends, dtype: float64\n",
      "\n"
     ]
    }
   ],
   "source": [
    "# Dividend yield\n",
    "for ticker in tickers:\n",
    "    ticker = yf.Ticker(ticker) #Creating an instance of the Ticker class for the specified stock ticker symbol\n",
    "    dividend = ticker.dividends\n",
    "    dividend_filtered = dividend.loc['2019-1-1':]\n",
    "    print(f\"Ticker: {ticker.ticker}\")\n",
    "    print(dividend_filtered)\n",
    "    print()"
   ]
  },
  {
   "cell_type": "code",
   "execution_count": 41,
   "metadata": {},
   "outputs": [
    {
     "name": "stdout",
     "output_type": "stream",
     "text": [
      "Ticker: O5RU.SI\n",
      "2024-03-31    1434274000.0\n",
      "2023-03-31    1367395000.0\n",
      "2022-03-31    1373742000.0\n",
      "2021-03-31    1087371000.0\n",
      "2020-03-31             NaN\n",
      "Name: Stockholders Equity, dtype: object\n",
      "\n",
      "2024-03-31    810563819.0\n",
      "2023-03-31    721534706.0\n",
      "2022-03-31    717767489.0\n",
      "2021-03-31    707831092.0\n",
      "2020-03-31            NaN\n",
      "Name: Ordinary Shares Number, dtype: object\n",
      "\n",
      "Ticker: XZL.SI\n",
      "2023-12-31    427555000.0\n",
      "2022-12-31    459656000.0\n",
      "2021-12-31    399745000.0\n",
      "2020-12-31    349176000.0\n",
      "2019-12-31            NaN\n",
      "Name: Stockholders Equity, dtype: object\n",
      "\n",
      "2023-12-31    576861944.0\n",
      "2022-12-31    569199000.0\n",
      "2021-12-31    567342000.0\n",
      "2020-12-31    567342000.0\n",
      "2019-12-31            NaN\n",
      "Name: Ordinary Shares Number, dtype: object\n",
      "\n"
     ]
    }
   ],
   "source": [
    "# PB Ratio\n",
    "# PB Ratio = Price per Share / Book Value per Share\n",
    "# Book Value per share = Stockholders' Equity (Total Assets - Total Liabilities) / Number of Outstanding Shares(Ordinary Shares Number)\n",
    "for ticker in tickers:\n",
    "    ticker = yf.Ticker(ticker)\n",
    "    print(f\"Ticker: {ticker.ticker}\")\n",
    "    print(ticker.balance_sheet.loc['Stockholders Equity',:])\n",
    "    print()\n",
    "    print(ticker.balance_sheet.loc['Ordinary Shares Number',:])\n",
    "    print()\n",
    "\n"
   ]
  }
 ],
 "metadata": {
  "kernelspec": {
   "display_name": "Python 3",
   "language": "python",
   "name": "python3"
  },
  "language_info": {
   "codemirror_mode": {
    "name": "ipython",
    "version": 3
   },
   "file_extension": ".py",
   "mimetype": "text/x-python",
   "name": "python",
   "nbconvert_exporter": "python",
   "pygments_lexer": "ipython3",
   "version": "3.11.9"
  }
 },
 "nbformat": 4,
 "nbformat_minor": 2
}
